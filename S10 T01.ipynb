{
 "cells": [
  {
   "cell_type": "markdown",
   "id": "6db2cc47",
   "metadata": {},
   "source": [
    "### S10 T01: Aprenentatge Supervisat"
   ]
  },
  {
   "cell_type": "markdown",
   "id": "f98d22b0",
   "metadata": {},
   "source": [
    "### Exercici 1\n",
    "\n",
    "Crea almenys tres models de classificació diferents per intentar predir el millor possible l’endarreriment dels vols (ArrDelay) de DelayedFlights.csv. Considera si el vol ha arribat tard o no (ArrDelay > 0)."
   ]
  },
  {
   "cell_type": "code",
   "execution_count": 1,
   "id": "bfe4ed29",
   "metadata": {},
   "outputs": [],
   "source": [
    "import numpy as np\n",
    "import pandas as pd\n",
    "import seaborn as sns\n",
    "import matplotlib.pyplot as plt\n",
    "import warnings\n",
    "from sklearn import metrics \n",
    "warnings.filterwarnings('ignore')"
   ]
  },
  {
   "cell_type": "code",
   "execution_count": 2,
   "id": "11b38ab5",
   "metadata": {},
   "outputs": [],
   "source": [
    "data=pd.read_csv('/Users/Diana/Downloads/archive/DelayedFlights.csv')"
   ]
  },
  {
   "cell_type": "code",
   "execution_count": 3,
   "id": "82c5a226",
   "metadata": {},
   "outputs": [],
   "source": [
    "data=data.drop_duplicates()"
   ]
  },
  {
   "cell_type": "code",
   "execution_count": 4,
   "id": "95654d91",
   "metadata": {},
   "outputs": [
    {
     "data": {
      "text/plain": [
       "Index(['Unnamed: 0', 'Year', 'Month', 'DayofMonth', 'DayOfWeek', 'DepTime',\n",
       "       'CRSDepTime', 'ArrTime', 'CRSArrTime', 'UniqueCarrier', 'FlightNum',\n",
       "       'TailNum', 'ActualElapsedTime', 'CRSElapsedTime', 'AirTime', 'ArrDelay',\n",
       "       'DepDelay', 'Origin', 'Dest', 'Distance', 'TaxiIn', 'TaxiOut',\n",
       "       'Cancelled', 'CancellationCode', 'Diverted', 'CarrierDelay',\n",
       "       'WeatherDelay', 'NASDelay', 'SecurityDelay', 'LateAircraftDelay'],\n",
       "      dtype='object')"
      ]
     },
     "execution_count": 4,
     "metadata": {},
     "output_type": "execute_result"
    }
   ],
   "source": [
    "data.columns"
   ]
  },
  {
   "cell_type": "code",
   "execution_count": 5,
   "id": "9315fb03",
   "metadata": {},
   "outputs": [],
   "source": [
    "#For now, I will drop some of the columns that don't give us any substantial information (Cancelled and Diverted\n",
    "#because we're looking for flight delays, if it's been cancelled no delay and if it's been diverted is delayed because\n",
    "#of diversion)\n",
    "\n",
    "airlines=data.drop(['Unnamed: 0', 'Year','FlightNum','Cancelled', 'CancellationCode', 'Diverted'], axis=1)"
   ]
  },
  {
   "cell_type": "code",
   "execution_count": 6,
   "id": "0c53d476",
   "metadata": {},
   "outputs": [
    {
     "data": {
      "text/html": [
       "<div>\n",
       "<style scoped>\n",
       "    .dataframe tbody tr th:only-of-type {\n",
       "        vertical-align: middle;\n",
       "    }\n",
       "\n",
       "    .dataframe tbody tr th {\n",
       "        vertical-align: top;\n",
       "    }\n",
       "\n",
       "    .dataframe thead th {\n",
       "        text-align: right;\n",
       "    }\n",
       "</style>\n",
       "<table border=\"1\" class=\"dataframe\">\n",
       "  <thead>\n",
       "    <tr style=\"text-align: right;\">\n",
       "      <th></th>\n",
       "      <th>Month</th>\n",
       "      <th>DayofMonth</th>\n",
       "      <th>DayOfWeek</th>\n",
       "      <th>DepTime</th>\n",
       "      <th>CRSDepTime</th>\n",
       "      <th>ArrTime</th>\n",
       "      <th>CRSArrTime</th>\n",
       "      <th>UniqueCarrier</th>\n",
       "      <th>TailNum</th>\n",
       "      <th>ActualElapsedTime</th>\n",
       "      <th>...</th>\n",
       "      <th>Origin</th>\n",
       "      <th>Dest</th>\n",
       "      <th>Distance</th>\n",
       "      <th>TaxiIn</th>\n",
       "      <th>TaxiOut</th>\n",
       "      <th>CarrierDelay</th>\n",
       "      <th>WeatherDelay</th>\n",
       "      <th>NASDelay</th>\n",
       "      <th>SecurityDelay</th>\n",
       "      <th>LateAircraftDelay</th>\n",
       "    </tr>\n",
       "  </thead>\n",
       "  <tbody>\n",
       "    <tr>\n",
       "      <th>0</th>\n",
       "      <td>1</td>\n",
       "      <td>3</td>\n",
       "      <td>4</td>\n",
       "      <td>2003.0</td>\n",
       "      <td>1955</td>\n",
       "      <td>2211.0</td>\n",
       "      <td>2225</td>\n",
       "      <td>WN</td>\n",
       "      <td>N712SW</td>\n",
       "      <td>128.0</td>\n",
       "      <td>...</td>\n",
       "      <td>IAD</td>\n",
       "      <td>TPA</td>\n",
       "      <td>810</td>\n",
       "      <td>4.0</td>\n",
       "      <td>8.0</td>\n",
       "      <td>NaN</td>\n",
       "      <td>NaN</td>\n",
       "      <td>NaN</td>\n",
       "      <td>NaN</td>\n",
       "      <td>NaN</td>\n",
       "    </tr>\n",
       "    <tr>\n",
       "      <th>1</th>\n",
       "      <td>1</td>\n",
       "      <td>3</td>\n",
       "      <td>4</td>\n",
       "      <td>754.0</td>\n",
       "      <td>735</td>\n",
       "      <td>1002.0</td>\n",
       "      <td>1000</td>\n",
       "      <td>WN</td>\n",
       "      <td>N772SW</td>\n",
       "      <td>128.0</td>\n",
       "      <td>...</td>\n",
       "      <td>IAD</td>\n",
       "      <td>TPA</td>\n",
       "      <td>810</td>\n",
       "      <td>5.0</td>\n",
       "      <td>10.0</td>\n",
       "      <td>NaN</td>\n",
       "      <td>NaN</td>\n",
       "      <td>NaN</td>\n",
       "      <td>NaN</td>\n",
       "      <td>NaN</td>\n",
       "    </tr>\n",
       "    <tr>\n",
       "      <th>2</th>\n",
       "      <td>1</td>\n",
       "      <td>3</td>\n",
       "      <td>4</td>\n",
       "      <td>628.0</td>\n",
       "      <td>620</td>\n",
       "      <td>804.0</td>\n",
       "      <td>750</td>\n",
       "      <td>WN</td>\n",
       "      <td>N428WN</td>\n",
       "      <td>96.0</td>\n",
       "      <td>...</td>\n",
       "      <td>IND</td>\n",
       "      <td>BWI</td>\n",
       "      <td>515</td>\n",
       "      <td>3.0</td>\n",
       "      <td>17.0</td>\n",
       "      <td>NaN</td>\n",
       "      <td>NaN</td>\n",
       "      <td>NaN</td>\n",
       "      <td>NaN</td>\n",
       "      <td>NaN</td>\n",
       "    </tr>\n",
       "    <tr>\n",
       "      <th>3</th>\n",
       "      <td>1</td>\n",
       "      <td>3</td>\n",
       "      <td>4</td>\n",
       "      <td>1829.0</td>\n",
       "      <td>1755</td>\n",
       "      <td>1959.0</td>\n",
       "      <td>1925</td>\n",
       "      <td>WN</td>\n",
       "      <td>N464WN</td>\n",
       "      <td>90.0</td>\n",
       "      <td>...</td>\n",
       "      <td>IND</td>\n",
       "      <td>BWI</td>\n",
       "      <td>515</td>\n",
       "      <td>3.0</td>\n",
       "      <td>10.0</td>\n",
       "      <td>2.0</td>\n",
       "      <td>0.0</td>\n",
       "      <td>0.0</td>\n",
       "      <td>0.0</td>\n",
       "      <td>32.0</td>\n",
       "    </tr>\n",
       "    <tr>\n",
       "      <th>4</th>\n",
       "      <td>1</td>\n",
       "      <td>3</td>\n",
       "      <td>4</td>\n",
       "      <td>1940.0</td>\n",
       "      <td>1915</td>\n",
       "      <td>2121.0</td>\n",
       "      <td>2110</td>\n",
       "      <td>WN</td>\n",
       "      <td>N726SW</td>\n",
       "      <td>101.0</td>\n",
       "      <td>...</td>\n",
       "      <td>IND</td>\n",
       "      <td>JAX</td>\n",
       "      <td>688</td>\n",
       "      <td>4.0</td>\n",
       "      <td>10.0</td>\n",
       "      <td>NaN</td>\n",
       "      <td>NaN</td>\n",
       "      <td>NaN</td>\n",
       "      <td>NaN</td>\n",
       "      <td>NaN</td>\n",
       "    </tr>\n",
       "  </tbody>\n",
       "</table>\n",
       "<p>5 rows × 24 columns</p>\n",
       "</div>"
      ],
      "text/plain": [
       "   Month  DayofMonth  DayOfWeek  DepTime  CRSDepTime  ArrTime  CRSArrTime  \\\n",
       "0      1           3          4   2003.0        1955   2211.0        2225   \n",
       "1      1           3          4    754.0         735   1002.0        1000   \n",
       "2      1           3          4    628.0         620    804.0         750   \n",
       "3      1           3          4   1829.0        1755   1959.0        1925   \n",
       "4      1           3          4   1940.0        1915   2121.0        2110   \n",
       "\n",
       "  UniqueCarrier TailNum  ActualElapsedTime  ...  Origin  Dest  Distance  \\\n",
       "0            WN  N712SW              128.0  ...     IAD   TPA       810   \n",
       "1            WN  N772SW              128.0  ...     IAD   TPA       810   \n",
       "2            WN  N428WN               96.0  ...     IND   BWI       515   \n",
       "3            WN  N464WN               90.0  ...     IND   BWI       515   \n",
       "4            WN  N726SW              101.0  ...     IND   JAX       688   \n",
       "\n",
       "   TaxiIn TaxiOut CarrierDelay  WeatherDelay  NASDelay  SecurityDelay  \\\n",
       "0     4.0     8.0          NaN           NaN       NaN            NaN   \n",
       "1     5.0    10.0          NaN           NaN       NaN            NaN   \n",
       "2     3.0    17.0          NaN           NaN       NaN            NaN   \n",
       "3     3.0    10.0          2.0           0.0       0.0            0.0   \n",
       "4     4.0    10.0          NaN           NaN       NaN            NaN   \n",
       "\n",
       "   LateAircraftDelay  \n",
       "0                NaN  \n",
       "1                NaN  \n",
       "2                NaN  \n",
       "3               32.0  \n",
       "4                NaN  \n",
       "\n",
       "[5 rows x 24 columns]"
      ]
     },
     "execution_count": 6,
     "metadata": {},
     "output_type": "execute_result"
    }
   ],
   "source": [
    "airlines.head()"
   ]
  },
  {
   "cell_type": "code",
   "execution_count": 7,
   "id": "e51e86ad",
   "metadata": {},
   "outputs": [],
   "source": [
    "#as I have trouble with large datasets (my computer is way too slow), I will apply a sample \n",
    "#for 50000 observations\n",
    "\n",
    "airlines=airlines.sample(50000)"
   ]
  },
  {
   "cell_type": "code",
   "execution_count": 8,
   "id": "628461e4",
   "metadata": {},
   "outputs": [
    {
     "data": {
      "text/html": [
       "<div>\n",
       "<style scoped>\n",
       "    .dataframe tbody tr th:only-of-type {\n",
       "        vertical-align: middle;\n",
       "    }\n",
       "\n",
       "    .dataframe tbody tr th {\n",
       "        vertical-align: top;\n",
       "    }\n",
       "\n",
       "    .dataframe thead th {\n",
       "        text-align: right;\n",
       "    }\n",
       "</style>\n",
       "<table border=\"1\" class=\"dataframe\">\n",
       "  <thead>\n",
       "    <tr style=\"text-align: right;\">\n",
       "      <th></th>\n",
       "      <th>Month</th>\n",
       "      <th>DayofMonth</th>\n",
       "      <th>DayOfWeek</th>\n",
       "      <th>DepTime</th>\n",
       "      <th>CRSDepTime</th>\n",
       "      <th>ArrTime</th>\n",
       "      <th>CRSArrTime</th>\n",
       "      <th>ActualElapsedTime</th>\n",
       "      <th>CRSElapsedTime</th>\n",
       "      <th>AirTime</th>\n",
       "      <th>ArrDelay</th>\n",
       "      <th>DepDelay</th>\n",
       "      <th>Distance</th>\n",
       "      <th>TaxiIn</th>\n",
       "      <th>TaxiOut</th>\n",
       "      <th>CarrierDelay</th>\n",
       "      <th>WeatherDelay</th>\n",
       "      <th>NASDelay</th>\n",
       "      <th>SecurityDelay</th>\n",
       "      <th>LateAircraftDelay</th>\n",
       "    </tr>\n",
       "  </thead>\n",
       "  <tbody>\n",
       "    <tr>\n",
       "      <th>count</th>\n",
       "      <td>50000.00</td>\n",
       "      <td>50000.00</td>\n",
       "      <td>50000.00</td>\n",
       "      <td>50000.00</td>\n",
       "      <td>50000.00</td>\n",
       "      <td>49792.00</td>\n",
       "      <td>50000.00</td>\n",
       "      <td>49760.00</td>\n",
       "      <td>49995.0</td>\n",
       "      <td>49760.00</td>\n",
       "      <td>49760.00</td>\n",
       "      <td>50000.00</td>\n",
       "      <td>50000.00</td>\n",
       "      <td>49792.00</td>\n",
       "      <td>49989.00</td>\n",
       "      <td>32247.00</td>\n",
       "      <td>32247.00</td>\n",
       "      <td>32247.00</td>\n",
       "      <td>32247.00</td>\n",
       "      <td>32247.00</td>\n",
       "    </tr>\n",
       "    <tr>\n",
       "      <th>mean</th>\n",
       "      <td>6.12</td>\n",
       "      <td>15.82</td>\n",
       "      <td>3.98</td>\n",
       "      <td>1514.01</td>\n",
       "      <td>1462.98</td>\n",
       "      <td>1611.57</td>\n",
       "      <td>1633.02</td>\n",
       "      <td>133.33</td>\n",
       "      <td>134.4</td>\n",
       "      <td>108.31</td>\n",
       "      <td>42.06</td>\n",
       "      <td>43.13</td>\n",
       "      <td>766.67</td>\n",
       "      <td>6.83</td>\n",
       "      <td>18.20</td>\n",
       "      <td>18.72</td>\n",
       "      <td>3.96</td>\n",
       "      <td>14.89</td>\n",
       "      <td>0.10</td>\n",
       "      <td>25.33</td>\n",
       "    </tr>\n",
       "    <tr>\n",
       "      <th>std</th>\n",
       "      <td>3.48</td>\n",
       "      <td>8.78</td>\n",
       "      <td>2.00</td>\n",
       "      <td>449.55</td>\n",
       "      <td>424.07</td>\n",
       "      <td>543.31</td>\n",
       "      <td>460.57</td>\n",
       "      <td>72.25</td>\n",
       "      <td>71.6</td>\n",
       "      <td>68.86</td>\n",
       "      <td>56.91</td>\n",
       "      <td>53.71</td>\n",
       "      <td>576.29</td>\n",
       "      <td>5.35</td>\n",
       "      <td>14.16</td>\n",
       "      <td>42.48</td>\n",
       "      <td>24.17</td>\n",
       "      <td>33.45</td>\n",
       "      <td>2.05</td>\n",
       "      <td>42.18</td>\n",
       "    </tr>\n",
       "    <tr>\n",
       "      <th>min</th>\n",
       "      <td>1.00</td>\n",
       "      <td>1.00</td>\n",
       "      <td>1.00</td>\n",
       "      <td>1.00</td>\n",
       "      <td>1.00</td>\n",
       "      <td>1.00</td>\n",
       "      <td>1.00</td>\n",
       "      <td>18.00</td>\n",
       "      <td>8.0</td>\n",
       "      <td>0.00</td>\n",
       "      <td>-70.00</td>\n",
       "      <td>6.00</td>\n",
       "      <td>31.00</td>\n",
       "      <td>0.00</td>\n",
       "      <td>0.00</td>\n",
       "      <td>0.00</td>\n",
       "      <td>0.00</td>\n",
       "      <td>0.00</td>\n",
       "      <td>0.00</td>\n",
       "      <td>0.00</td>\n",
       "    </tr>\n",
       "    <tr>\n",
       "      <th>25%</th>\n",
       "      <td>3.00</td>\n",
       "      <td>8.00</td>\n",
       "      <td>2.00</td>\n",
       "      <td>1200.00</td>\n",
       "      <td>1130.00</td>\n",
       "      <td>1315.00</td>\n",
       "      <td>1323.00</td>\n",
       "      <td>80.00</td>\n",
       "      <td>81.0</td>\n",
       "      <td>58.00</td>\n",
       "      <td>9.00</td>\n",
       "      <td>12.00</td>\n",
       "      <td>338.00</td>\n",
       "      <td>4.00</td>\n",
       "      <td>10.00</td>\n",
       "      <td>0.00</td>\n",
       "      <td>0.00</td>\n",
       "      <td>0.00</td>\n",
       "      <td>0.00</td>\n",
       "      <td>0.00</td>\n",
       "    </tr>\n",
       "    <tr>\n",
       "      <th>50%</th>\n",
       "      <td>6.00</td>\n",
       "      <td>16.00</td>\n",
       "      <td>4.00</td>\n",
       "      <td>1543.00</td>\n",
       "      <td>1505.00</td>\n",
       "      <td>1716.00</td>\n",
       "      <td>1705.00</td>\n",
       "      <td>116.00</td>\n",
       "      <td>116.0</td>\n",
       "      <td>90.00</td>\n",
       "      <td>24.00</td>\n",
       "      <td>24.00</td>\n",
       "      <td>606.00</td>\n",
       "      <td>6.00</td>\n",
       "      <td>14.00</td>\n",
       "      <td>2.00</td>\n",
       "      <td>0.00</td>\n",
       "      <td>2.00</td>\n",
       "      <td>0.00</td>\n",
       "      <td>9.00</td>\n",
       "    </tr>\n",
       "    <tr>\n",
       "      <th>75%</th>\n",
       "      <td>9.00</td>\n",
       "      <td>23.00</td>\n",
       "      <td>6.00</td>\n",
       "      <td>1857.00</td>\n",
       "      <td>1815.00</td>\n",
       "      <td>2028.00</td>\n",
       "      <td>2010.00</td>\n",
       "      <td>165.00</td>\n",
       "      <td>165.0</td>\n",
       "      <td>137.00</td>\n",
       "      <td>55.00</td>\n",
       "      <td>53.00</td>\n",
       "      <td>998.00</td>\n",
       "      <td>8.00</td>\n",
       "      <td>21.00</td>\n",
       "      <td>20.00</td>\n",
       "      <td>0.00</td>\n",
       "      <td>15.00</td>\n",
       "      <td>0.00</td>\n",
       "      <td>33.00</td>\n",
       "    </tr>\n",
       "    <tr>\n",
       "      <th>max</th>\n",
       "      <td>12.00</td>\n",
       "      <td>31.00</td>\n",
       "      <td>7.00</td>\n",
       "      <td>2400.00</td>\n",
       "      <td>2359.00</td>\n",
       "      <td>2400.00</td>\n",
       "      <td>2400.00</td>\n",
       "      <td>679.00</td>\n",
       "      <td>660.0</td>\n",
       "      <td>651.00</td>\n",
       "      <td>1225.00</td>\n",
       "      <td>1233.00</td>\n",
       "      <td>4962.00</td>\n",
       "      <td>200.00</td>\n",
       "      <td>324.00</td>\n",
       "      <td>1120.00</td>\n",
       "      <td>1225.00</td>\n",
       "      <td>838.00</td>\n",
       "      <td>140.00</td>\n",
       "      <td>845.00</td>\n",
       "    </tr>\n",
       "  </tbody>\n",
       "</table>\n",
       "</div>"
      ],
      "text/plain": [
       "          Month  DayofMonth  DayOfWeek   DepTime  CRSDepTime   ArrTime  \\\n",
       "count  50000.00    50000.00   50000.00  50000.00    50000.00  49792.00   \n",
       "mean       6.12       15.82       3.98   1514.01     1462.98   1611.57   \n",
       "std        3.48        8.78       2.00    449.55      424.07    543.31   \n",
       "min        1.00        1.00       1.00      1.00        1.00      1.00   \n",
       "25%        3.00        8.00       2.00   1200.00     1130.00   1315.00   \n",
       "50%        6.00       16.00       4.00   1543.00     1505.00   1716.00   \n",
       "75%        9.00       23.00       6.00   1857.00     1815.00   2028.00   \n",
       "max       12.00       31.00       7.00   2400.00     2359.00   2400.00   \n",
       "\n",
       "       CRSArrTime  ActualElapsedTime  CRSElapsedTime   AirTime  ArrDelay  \\\n",
       "count    50000.00           49760.00         49995.0  49760.00  49760.00   \n",
       "mean      1633.02             133.33           134.4    108.31     42.06   \n",
       "std        460.57              72.25            71.6     68.86     56.91   \n",
       "min          1.00              18.00             8.0      0.00    -70.00   \n",
       "25%       1323.00              80.00            81.0     58.00      9.00   \n",
       "50%       1705.00             116.00           116.0     90.00     24.00   \n",
       "75%       2010.00             165.00           165.0    137.00     55.00   \n",
       "max       2400.00             679.00           660.0    651.00   1225.00   \n",
       "\n",
       "       DepDelay  Distance    TaxiIn   TaxiOut  CarrierDelay  WeatherDelay  \\\n",
       "count  50000.00  50000.00  49792.00  49989.00      32247.00      32247.00   \n",
       "mean      43.13    766.67      6.83     18.20         18.72          3.96   \n",
       "std       53.71    576.29      5.35     14.16         42.48         24.17   \n",
       "min        6.00     31.00      0.00      0.00          0.00          0.00   \n",
       "25%       12.00    338.00      4.00     10.00          0.00          0.00   \n",
       "50%       24.00    606.00      6.00     14.00          2.00          0.00   \n",
       "75%       53.00    998.00      8.00     21.00         20.00          0.00   \n",
       "max     1233.00   4962.00    200.00    324.00       1120.00       1225.00   \n",
       "\n",
       "       NASDelay  SecurityDelay  LateAircraftDelay  \n",
       "count  32247.00       32247.00           32247.00  \n",
       "mean      14.89           0.10              25.33  \n",
       "std       33.45           2.05              42.18  \n",
       "min        0.00           0.00               0.00  \n",
       "25%        0.00           0.00               0.00  \n",
       "50%        2.00           0.00               9.00  \n",
       "75%       15.00           0.00              33.00  \n",
       "max      838.00         140.00             845.00  "
      ]
     },
     "execution_count": 8,
     "metadata": {},
     "output_type": "execute_result"
    }
   ],
   "source": [
    "airlines.describe().round(2)"
   ]
  },
  {
   "cell_type": "code",
   "execution_count": 9,
   "id": "d8fafb82",
   "metadata": {},
   "outputs": [
    {
     "data": {
      "image/png": "[encoded data removed]",
      "text/plain": [
       "<Figure size 1080x576 with 2 Axes>"
      ]
     },
     "metadata": {
      "needs_background": "light"
     },
     "output_type": "display_data"
    }
   ],
   "source": [
    "#visualize the correlation between variables\n",
    "\n",
    "correl=airlines.corr().round(3)\n",
    "mascara=np.triu(correl)\n",
    "f, ax=plt.subplots(figsize=(15, 8))\n",
    "sns.heatmap(correl, mask=mascara, annot=True, linewidths=.5,  vmin=-1, vmax=1,  cmap='BrBG_r')\n",
    "ax.set_title('Correlation heatmap')\n",
    "plt.show()"
   ]
  },
  {
   "cell_type": "code",
   "execution_count": 10,
   "id": "f84e7b65",
   "metadata": {},
   "outputs": [
    {
     "data": {
      "image/png": "[encoded data removed]",
      "text/plain": [
       "<Figure size 576x864 with 2 Axes>"
      ]
     },
     "metadata": {
      "needs_background": "light"
     },
     "output_type": "display_data"
    }
   ],
   "source": [
    "# Correlation of features with target ArrDelay sorted by importance\n",
    "plt.figure(figsize=(8, 12))\n",
    "heatmap = sns.heatmap(correl[['ArrDelay']].sort_values(by='ArrDelay', ascending=False), vmin=-1, vmax=1, annot=True, cmap='BrBG_r')\n",
    "heatmap.set_title('Features Correlating with ArrDelay', fontdict={'fontsize':18}, pad=16);"
   ]
  },
  {
   "cell_type": "markdown",
   "id": "d2a5a3c6",
   "metadata": {},
   "source": [
    "The most correlated variables with ArrDelay are DepDelay, the most, and then CarrierDelay, LateAircraftDelay. In fact, ArrDelay is the addition of all specific delays."
   ]
  },
  {
   "cell_type": "code",
   "execution_count": 11,
   "id": "c09850fd",
   "metadata": {},
   "outputs": [
    {
     "data": {
      "text/plain": [
       "Month                    0\n",
       "DayofMonth               0\n",
       "DayOfWeek                0\n",
       "DepTime                  0\n",
       "CRSDepTime               0\n",
       "ArrTime                208\n",
       "CRSArrTime               0\n",
       "UniqueCarrier            0\n",
       "TailNum                  0\n",
       "ActualElapsedTime      240\n",
       "CRSElapsedTime           5\n",
       "AirTime                240\n",
       "ArrDelay               240\n",
       "DepDelay                 0\n",
       "Origin                   0\n",
       "Dest                     0\n",
       "Distance                 0\n",
       "TaxiIn                 208\n",
       "TaxiOut                 11\n",
       "CarrierDelay         17753\n",
       "WeatherDelay         17753\n",
       "NASDelay             17753\n",
       "SecurityDelay        17753\n",
       "LateAircraftDelay    17753\n",
       "dtype: int64"
      ]
     },
     "execution_count": 11,
     "metadata": {},
     "output_type": "execute_result"
    }
   ],
   "source": [
    "# Checking missing values\n",
    "airlines.isna().sum()"
   ]
  },
  {
   "cell_type": "code",
   "execution_count": 12,
   "id": "fcbd9465",
   "metadata": {},
   "outputs": [],
   "source": [
    "# Removing NaN for ArrTime, ActualElapsedTime, AirTime, TaxiIn, and TaxiOut\n",
    "airlines=airlines.dropna(how='any',\n",
    "                          subset=['ArrTime', 'ActualElapsedTime','AirTime','TaxiIn','TaxiOut'])"
   ]
  },
  {
   "cell_type": "code",
   "execution_count": 13,
   "id": "151c8f5a",
   "metadata": {},
   "outputs": [
    {
     "data": {
      "text/plain": [
       "Month                    0\n",
       "DayofMonth               0\n",
       "DayOfWeek                0\n",
       "DepTime                  0\n",
       "CRSDepTime               0\n",
       "ArrTime                  0\n",
       "CRSArrTime               0\n",
       "UniqueCarrier            0\n",
       "TailNum                  0\n",
       "ActualElapsedTime        0\n",
       "CRSElapsedTime           0\n",
       "AirTime                  0\n",
       "ArrDelay                 0\n",
       "DepDelay                 0\n",
       "Origin                   0\n",
       "Dest                     0\n",
       "Distance                 0\n",
       "TaxiIn                   0\n",
       "TaxiOut                  0\n",
       "CarrierDelay         17513\n",
       "WeatherDelay         17513\n",
       "NASDelay             17513\n",
       "SecurityDelay        17513\n",
       "LateAircraftDelay    17513\n",
       "dtype: int64"
      ]
     },
     "execution_count": 13,
     "metadata": {},
     "output_type": "execute_result"
    }
   ],
   "source": [
    "airlines.isna().sum()"
   ]
  },
  {
   "cell_type": "markdown",
   "id": "9a1264af",
   "metadata": {},
   "source": [
    "For our model, we will only take those variables that we know when the plane is taking off and before landing.\n",
    "\n",
    "These variables are: DepDelay, TaxiOut, DepTime, CRSElapsedTime, Distance, CRSDepTime, Month, DayofWeek, DayOfMonth, CRSArrTime, UniqueCarrier, Origin, Dest, and TailNum."
   ]
  },
  {
   "cell_type": "code",
   "execution_count": 14,
   "id": "293ac98c",
   "metadata": {},
   "outputs": [],
   "source": [
    "#As we have to considered if flights are delayed (ArrDelay>0) I'll set this condition to 1 and the rest of cases to 0.\n",
    "airlines['Delayed'] = airlines['ArrDelay'] > 0\n",
    "airlines['Delayed'] = airlines['Delayed'].astype(int)"
   ]
  },
  {
   "cell_type": "code",
   "execution_count": 15,
   "id": "23653cac",
   "metadata": {},
   "outputs": [
    {
     "data": {
      "text/plain": [
       "1    44431\n",
       "0     5329\n",
       "Name: Delayed, dtype: int64"
      ]
     },
     "execution_count": 15,
     "metadata": {},
     "output_type": "execute_result"
    }
   ],
   "source": [
    "airlines['Delayed'].value_counts()"
   ]
  },
  {
   "cell_type": "code",
   "execution_count": 16,
   "id": "d457da6a",
   "metadata": {},
   "outputs": [],
   "source": [
    "airlines_copy=airlines.copy()"
   ]
  },
  {
   "cell_type": "code",
   "execution_count": 17,
   "id": "b4b263a7",
   "metadata": {},
   "outputs": [],
   "source": [
    "airlines=airlines.drop(['ArrDelay'],axis=1)"
   ]
  },
  {
   "cell_type": "code",
   "execution_count": 18,
   "id": "e982774d",
   "metadata": {},
   "outputs": [],
   "source": [
    "#Categorical features\n",
    "cat=['TailNum', 'UniqueCarrier', 'Dest', 'Origin']\n",
    "\n",
    "# Numerical features (all the rest)\n",
    "numeric=['Month', 'DayofMonth', 'DayOfWeek', 'DepTime', 'DepDelay','CRSArrTime', \n",
    "         'CRSElapsedTime', 'Distance', 'TaxiOut']\n",
    "\n",
    "X=airlines[numeric]\n",
    "y=airlines.Delayed"
   ]
  },
  {
   "cell_type": "code",
   "execution_count": 19,
   "id": "302bffa7",
   "metadata": {},
   "outputs": [
    {
     "name": "stdout",
     "output_type": "stream",
     "text": [
      "Training Features Shape: (39808, 9)\n",
      "Testing Features Shape: (9952, 9)\n"
     ]
    }
   ],
   "source": [
    "#Train-Set test\n",
    "\n",
    "from sklearn.model_selection import train_test_split\n",
    "\n",
    "X_train, X_test, y_train, y_test=train_test_split(X, y, test_size=0.20, random_state=42)\n",
    "print('Training Features Shape:', X_train.shape)\n",
    "print('Testing Features Shape:', X_test.shape)"
   ]
  },
  {
   "cell_type": "markdown",
   "id": "2ad6f6c7",
   "metadata": {},
   "source": [
    "**K-NN Model**\n",
    "\n",
    "K-Nearest Neighbor calculates the distance of a new data point to all other training data points"
   ]
  },
  {
   "cell_type": "code",
   "execution_count": 20,
   "id": "b9e5bb1e",
   "metadata": {},
   "outputs": [
    {
     "data": {
      "text/plain": [
       "KNeighborsClassifier()"
      ]
     },
     "execution_count": 20,
     "metadata": {},
     "output_type": "execute_result"
    }
   ],
   "source": [
    "#training the model and predictions\n",
    "\n",
    "from sklearn.neighbors import KNeighborsClassifier\n",
    "classifier = KNeighborsClassifier(n_neighbors=5)\n",
    "classifier.fit(X_train, y_train)"
   ]
  },
  {
   "cell_type": "code",
   "execution_count": 21,
   "id": "26348e52",
   "metadata": {},
   "outputs": [],
   "source": [
    "#predictions\n",
    "\n",
    "y_predKNN = classifier.predict(X_test)"
   ]
  },
  {
   "cell_type": "code",
   "execution_count": 22,
   "id": "07212ceb",
   "metadata": {},
   "outputs": [
    {
     "name": "stdout",
     "output_type": "stream",
     "text": [
      "Accuracy of KNN: 0.8844453376205788\n"
     ]
    }
   ],
   "source": [
    "#evaluating the algorithm\n",
    "\n",
    "print(\"Accuracy of KNN:\",metrics.accuracy_score(y_test, y_predKNN))"
   ]
  },
  {
   "cell_type": "markdown",
   "id": "95a44ea1",
   "metadata": {},
   "source": [
    "The results show that our KNN algorithm has 88% accuracy."
   ]
  },
  {
   "cell_type": "markdown",
   "id": "75ef2939",
   "metadata": {},
   "source": [
    "**Naive Bayes**\n",
    "\n",
    "Naive Bayes is a statistical classification technique based on Bayes Theorem. Naive Bayes classifier assumes that the effect of a particular feature in a class is independent of other features."
   ]
  },
  {
   "cell_type": "code",
   "execution_count": 23,
   "id": "00a662ad",
   "metadata": {},
   "outputs": [],
   "source": [
    "#Import Gaussian Naive Bayes model\n",
    "from sklearn.naive_bayes import GaussianNB\n",
    "from sklearn.metrics import mean_squared_error\n",
    "\n",
    "#Create a Gaussian Classifier\n",
    "modelGNB=GaussianNB()\n",
    "\n",
    "# Train the model using the training sets\n",
    "modelGNB.fit(X_train, y_train)\n",
    "\n",
    "#Predict Output\n",
    "y_predGNB=modelGNB.predict(X_test)"
   ]
  },
  {
   "cell_type": "code",
   "execution_count": 24,
   "id": "4d1a82b3",
   "metadata": {},
   "outputs": [
    {
     "name": "stdout",
     "output_type": "stream",
     "text": [
      "Accuracy of Naive Bayes: 0.7909967845659164\n"
     ]
    }
   ],
   "source": [
    "#Evaluating the model\n",
    "\n",
    "print(\"Accuracy of Naive Bayes:\",metrics.accuracy_score(y_test, y_predGNB))"
   ]
  },
  {
   "cell_type": "markdown",
   "id": "137fbdb8",
   "metadata": {},
   "source": [
    "Accuracy has decreased to 79% vs. previous model."
   ]
  },
  {
   "cell_type": "markdown",
   "id": "233782a8",
   "metadata": {},
   "source": [
    "**XGBoost**\n",
    "\n",
    "Boosting is a sequential technique which works on the principle of an ensemble. It combines a set of weak learners and delivers improved prediction accuracy. At any instant t, the model outcomes are weighed based on the outcomes of previous instant t-1. The outcomes predicted correctly are given a lower weight and the ones miss-classified are weighted higher."
   ]
  },
  {
   "cell_type": "code",
   "execution_count": 25,
   "id": "a60d4a24",
   "metadata": {},
   "outputs": [],
   "source": [
    "import xgboost as xgb\n",
    "\n",
    "#convert the dataset into an optimized data structure called Dmatrix\n",
    "\n",
    "data_dmatrix = xgb.DMatrix(data=X,label=y)"
   ]
  },
  {
   "cell_type": "code",
   "execution_count": 26,
   "id": "15cd63de",
   "metadata": {},
   "outputs": [],
   "source": [
    "#instantiate an XGBoost regressor object\n",
    "\n",
    "xg_reg = xgb.XGBClassifier(objective ='binary:logistic',use_label_encoder=False,random_state=42)"
   ]
  },
  {
   "cell_type": "code",
   "execution_count": 27,
   "id": "680aa051",
   "metadata": {},
   "outputs": [
    {
     "name": "stdout",
     "output_type": "stream",
     "text": [
      "[15:46:45] WARNING: ../src/learner.cc:1115: Starting in XGBoost 1.3.0, the default evaluation metric used with the objective 'binary:logistic' was changed from 'error' to 'logloss'. Explicitly set eval_metric if you'd like to restore the old behavior.\n"
     ]
    }
   ],
   "source": [
    "#fitting model\n",
    "\n",
    "xg_reg.fit(X_train,y_train)\n",
    "\n",
    "y_predxg=xg_reg.predict(X_test)"
   ]
  },
  {
   "cell_type": "code",
   "execution_count": 28,
   "id": "c1275d31",
   "metadata": {},
   "outputs": [
    {
     "name": "stdout",
     "output_type": "stream",
     "text": [
      "Accuracy of XGBoost: 0.9030345659163987\n"
     ]
    }
   ],
   "source": [
    "print(\"Accuracy of XGBoost:\",metrics.accuracy_score(y_test, y_predxg))"
   ]
  },
  {
   "cell_type": "markdown",
   "id": "1a6087a1",
   "metadata": {},
   "source": [
    "XGBoost is the model with the best accuracy of the three reaching 90.3%"
   ]
  },
  {
   "cell_type": "markdown",
   "id": "43c9fc65",
   "metadata": {},
   "source": [
    "### Exercici 2\n",
    "\n",
    "Compara els models de classificació utilitzant la precisió (accuracy), una matriu de confiança i d’altres mètriques més avançades."
   ]
  },
  {
   "cell_type": "markdown",
   "id": "1ddd040e",
   "metadata": {},
   "source": [
    "**Accuracy**"
   ]
  },
  {
   "cell_type": "code",
   "execution_count": 29,
   "id": "c8c27765",
   "metadata": {},
   "outputs": [
    {
     "name": "stdout",
     "output_type": "stream",
     "text": [
      "Accuracy of KNN: 0.8844453376205788\n",
      "Accuracy of Naive Bayes: 0.7909967845659164\n",
      "Accuracy of XGBoost: 0.9030345659163987\n"
     ]
    }
   ],
   "source": [
    "print(\"Accuracy of KNN:\",metrics.accuracy_score(y_test, y_predKNN))\n",
    "print(\"Accuracy of Naive Bayes:\",metrics.accuracy_score(y_test, y_predGNB))\n",
    "print(\"Accuracy of XGBoost:\",metrics.accuracy_score(y_test, y_predxg))"
   ]
  },
  {
   "cell_type": "markdown",
   "id": "3fd03ab3",
   "metadata": {},
   "source": [
    "The best model as we have stated before is XGBoost."
   ]
  },
  {
   "cell_type": "markdown",
   "id": "ffd9eedf",
   "metadata": {},
   "source": [
    "**Confussion Matrix**"
   ]
  },
  {
   "cell_type": "code",
   "execution_count": 30,
   "id": "5ed956e2",
   "metadata": {},
   "outputs": [
    {
     "name": "stdout",
     "output_type": "stream",
     "text": [
      "Confusion Matrix of KNN:  [[ 127  931]\n",
      " [ 219 8675]]\n"
     ]
    }
   ],
   "source": [
    "cm_KNN=metrics.confusion_matrix(y_test, y_predKNN)\n",
    "print('Confusion Matrix of KNN: ', cm_KNN)"
   ]
  },
  {
   "cell_type": "code",
   "execution_count": 31,
   "id": "2c316999",
   "metadata": {},
   "outputs": [
    {
     "name": "stdout",
     "output_type": "stream",
     "text": [
      "Confusion Matrix of Naive Bayes:  [[ 872  186]\n",
      " [1894 7000]]\n"
     ]
    }
   ],
   "source": [
    "cm_GNB=metrics.confusion_matrix(y_test, y_predGNB)\n",
    "print('Confusion Matrix of Naive Bayes: ', cm_GNB)"
   ]
  },
  {
   "cell_type": "code",
   "execution_count": 32,
   "id": "5e9cd835",
   "metadata": {},
   "outputs": [
    {
     "name": "stdout",
     "output_type": "stream",
     "text": [
      "Confusion Matrix of XGBoost:  [[ 402  656]\n",
      " [ 309 8585]]\n"
     ]
    }
   ],
   "source": [
    "cm_XGBoost=metrics.confusion_matrix(y_test, y_predxg)\n",
    "print('Confusion Matrix of XGBoost: ', cm_XGBoost)"
   ]
  },
  {
   "cell_type": "code",
   "execution_count": 33,
   "id": "f4da692f",
   "metadata": {},
   "outputs": [
    {
     "data": {
      "image/png": "[encoded data removed]",
      "text/plain": [
       "<Figure size 1080x360 with 4 Axes>"
      ]
     },
     "metadata": {
      "needs_background": "light"
     },
     "output_type": "display_data"
    }
   ],
   "source": [
    "fig, ax = plt.subplots(1, 3, figsize=(15, 5), sharey='row')\n",
    "\n",
    "cmview = metrics.ConfusionMatrixDisplay(cm_KNN)\n",
    "cmview.plot(ax=ax[0])\n",
    "cmview.ax_.set(title='KNN Neighbors',xlabel='Actual',ylabel='Predicted')\n",
    "cmview.im_.colorbar.remove()\n",
    "\n",
    "cmview = metrics.ConfusionMatrixDisplay(cm_GNB)\n",
    "cmview.plot(ax=ax[1])\n",
    "cmview.ax_.set(title='Naive Bayes',xlabel='Actual',ylabel='Predicted')\n",
    "cmview.im_.colorbar.remove()\n",
    "   \n",
    "cmview = metrics.ConfusionMatrixDisplay(cm_XGBoost)\n",
    "cmview.plot(ax=ax[2])\n",
    "cmview.ax_.set(title='XGBoost',xlabel='Actual',ylabel='Predicted')\n",
    "cmview.im_.colorbar.remove()\n",
    "\n",
    "plt.subplots_adjust(wspace=0.20, hspace=0.1)\n",
    "fig.colorbar(cmview.im_, ax=ax)\n",
    "fig.suptitle('Confusion Matrix', fontsize = 20, fontweight = \"bold\", ha='center')\n",
    "plt.show()"
   ]
  },
  {
   "cell_type": "markdown",
   "id": "35737c4d",
   "metadata": {},
   "source": [
    "- True Positive (TP) is higher on Naive Bayes and XGBoost\n",
    "- True Negative (TN) is lower on those two, especially in Naive Bayes\n",
    "- False Positive (FP) is higher in KNN Neighbors and better in Naive Bayes\n",
    "- False Negative (FN) is higher in Naive Bayes.\n",
    "\n",
    "So the best models:\n",
    "Naive Bayes: have higher TP, less TN, less FP but important to say higher FN.\n",
    "XG Boost: less TP than Naive but better than KNN, higher TN, more FP, but at the same time less FN.\n",
    "\n",
    "As I consider FN an important metric (it's better a False Negative than a False Positive), I would say that XG Boost is the best of all three models.\n"
   ]
  },
  {
   "cell_type": "markdown",
   "id": "af8d0c1a",
   "metadata": {},
   "source": [
    "**F1 Score**\n",
    "\n",
    "F1 score is the weighted average of precision and recall. F1 score is a more useful measure than accuracy for problems with uneven class distribution because it takes into account both false positive and false negatives.\n",
    "\n",
    "The best value for f1 score is 1 and the worst is 0."
   ]
  },
  {
   "cell_type": "code",
   "execution_count": 34,
   "id": "709804e9",
   "metadata": {},
   "outputs": [
    {
     "name": "stdout",
     "output_type": "stream",
     "text": [
      "F1 Score for KNN:  0.9378378378378379\n"
     ]
    }
   ],
   "source": [
    "f1_KNN=metrics.f1_score(y_test, y_predKNN)\n",
    "print('F1 Score for KNN: ', f1_KNN)"
   ]
  },
  {
   "cell_type": "code",
   "execution_count": 35,
   "id": "b23ebf57",
   "metadata": {},
   "outputs": [
    {
     "name": "stdout",
     "output_type": "stream",
     "text": [
      "F1 Score for Naive Bayes:  0.8706467661691543\n"
     ]
    }
   ],
   "source": [
    "f1_GNB=metrics.f1_score(y_test, y_predGNB)\n",
    "print('F1 Score for Naive Bayes: ',f1_GNB)"
   ]
  },
  {
   "cell_type": "code",
   "execution_count": 36,
   "id": "6541e96c",
   "metadata": {},
   "outputs": [
    {
     "name": "stdout",
     "output_type": "stream",
     "text": [
      "F1 Score for XGBoost:  0.9467879790460435\n"
     ]
    }
   ],
   "source": [
    "f1_XG=metrics.f1_score(y_test, y_predxg)\n",
    "print('F1 Score for XGBoost: ', f1_XG)"
   ]
  },
  {
   "cell_type": "markdown",
   "id": "5a89c4ab",
   "metadata": {},
   "source": [
    "The best of all three models is XGBoost."
   ]
  },
  {
   "cell_type": "markdown",
   "id": "5f0e7b18",
   "metadata": {},
   "source": [
    "**Precision**"
   ]
  },
  {
   "cell_type": "code",
   "execution_count": 37,
   "id": "47c4f72f",
   "metadata": {},
   "outputs": [
    {
     "name": "stdout",
     "output_type": "stream",
     "text": [
      "Precision for KNN:  0.9030814074536748\n"
     ]
    }
   ],
   "source": [
    "pres_KNN=metrics.precision_score(y_test, y_predKNN)\n",
    "print('Precision for KNN: ', pres_KNN)"
   ]
  },
  {
   "cell_type": "code",
   "execution_count": 38,
   "id": "f627ba53",
   "metadata": {},
   "outputs": [
    {
     "name": "stdout",
     "output_type": "stream",
     "text": [
      "Precision for Naive Bayes:  0.9741163373225716\n"
     ]
    }
   ],
   "source": [
    "pres_GNB=metrics.precision_score(y_test, y_predGNB)\n",
    "print('Precision for Naive Bayes: ', pres_GNB)"
   ]
  },
  {
   "cell_type": "code",
   "execution_count": 39,
   "id": "427d77d0",
   "metadata": {},
   "outputs": [
    {
     "name": "stdout",
     "output_type": "stream",
     "text": [
      "Precision for XGBoost:  0.9290120116870468\n"
     ]
    }
   ],
   "source": [
    "pres_XG=metrics.precision_score(y_test, y_predxg)\n",
    "print('Precision for XGBoost: ', pres_XG)"
   ]
  },
  {
   "cell_type": "markdown",
   "id": "5fc7fab6",
   "metadata": {},
   "source": [
    "The most precise model is Naive Bayes."
   ]
  },
  {
   "cell_type": "markdown",
   "id": "ee7ac08f",
   "metadata": {},
   "source": [
    "**AUC**"
   ]
  },
  {
   "cell_type": "code",
   "execution_count": 40,
   "id": "127e5d58",
   "metadata": {},
   "outputs": [
    {
     "name": "stdout",
     "output_type": "stream",
     "text": [
      "AUC for KNN:  0.5477072328023862\n"
     ]
    }
   ],
   "source": [
    "auc_KNN=metrics.roc_auc_score(y_test, y_predKNN)\n",
    "print('AUC for KNN: ', auc_KNN)"
   ]
  },
  {
   "cell_type": "code",
   "execution_count": 41,
   "id": "2e33590a",
   "metadata": {},
   "outputs": [
    {
     "name": "stdout",
     "output_type": "stream",
     "text": [
      "AUC for Naive Bayes:  0.8056220225355297\n"
     ]
    }
   ],
   "source": [
    "auc_GNB=metrics.roc_auc_score(y_test, y_predGNB)\n",
    "print('AUC for Naive Bayes: ', auc_GNB)"
   ]
  },
  {
   "cell_type": "code",
   "execution_count": 42,
   "id": "2d93e928",
   "metadata": {},
   "outputs": [
    {
     "name": "stdout",
     "output_type": "stream",
     "text": [
      "AUC for XGBoost:  0.6726098348836942\n"
     ]
    }
   ],
   "source": [
    "auc_XG=metrics.roc_auc_score(y_test, y_predxg)\n",
    "print('AUC for XGBoost: ', auc_XG)"
   ]
  },
  {
   "cell_type": "markdown",
   "id": "d31bc528",
   "metadata": {},
   "source": [
    "Naive Bayes is the best of all three models."
   ]
  },
  {
   "cell_type": "markdown",
   "id": "ecc0dee8",
   "metadata": {},
   "source": [
    "## Exercici 3\n",
    "\n",
    "Entrena’ls utilitzant els diferents paràmetres que admeten."
   ]
  },
  {
   "cell_type": "markdown",
   "id": "d641a886",
   "metadata": {},
   "source": [
    "**K-NN Model**"
   ]
  },
  {
   "cell_type": "code",
   "execution_count": 43,
   "id": "44c8412c",
   "metadata": {},
   "outputs": [
    {
     "data": {
      "text/plain": [
       "KNeighborsClassifier(n_neighbors=2, weights='distance')"
      ]
     },
     "execution_count": 43,
     "metadata": {},
     "output_type": "execute_result"
    }
   ],
   "source": [
    "#I will train the model adding these parameters: weights='distance'-->weight points by the inverse of their distance \n",
    "#(closer neighbors of a query point will have a greater influence than neighbors which are further away\n",
    "#algorithm='ball_tree'\n",
    "#and changing n_neighbors to 2\n",
    "\n",
    "classifier=KNeighborsClassifier(n_neighbors=2, weights='distance')\n",
    "classifier.fit(X_train, y_train)"
   ]
  },
  {
   "cell_type": "code",
   "execution_count": 44,
   "id": "4eb72edd",
   "metadata": {},
   "outputs": [],
   "source": [
    "y_predKNN2 = classifier.predict(X_test)"
   ]
  },
  {
   "cell_type": "markdown",
   "id": "ef4f9b91",
   "metadata": {},
   "source": [
    "**Naive Bayes**"
   ]
  },
  {
   "cell_type": "code",
   "execution_count": 45,
   "id": "3cdbe094",
   "metadata": {},
   "outputs": [],
   "source": [
    "#adding var_smoothing parameter: loat value provided will be used to calculate the largest \n",
    "#variances of each feature and add it to the stability calculation variance\n",
    "\n",
    "modelGNB=GaussianNB(var_smoothing=2.0)\n",
    "\n",
    "modelGNB.fit(X_train, y_train)\n",
    "\n",
    "#Predict Output\n",
    "y_predGNB=modelGNB.predict(X_test)"
   ]
  },
  {
   "cell_type": "markdown",
   "id": "205f5a18",
   "metadata": {},
   "source": [
    "**XG Boost**"
   ]
  },
  {
   "cell_type": "code",
   "execution_count": 46,
   "id": "7d4e4902",
   "metadata": {},
   "outputs": [
    {
     "name": "stdout",
     "output_type": "stream",
     "text": [
      "[15:46:52] WARNING: ../src/learner.cc:1115: Starting in XGBoost 1.3.0, the default evaluation metric used with the objective 'binary:logistic' was changed from 'error' to 'logloss'. Explicitly set eval_metric if you'd like to restore the old behavior.\n"
     ]
    }
   ],
   "source": [
    "#added: max_depth=5 (default is 6)--> Maximum depth of a tree\n",
    "#added: min_child_weight=3 Minimum sum of instance weight (hessian) needed in a child\n",
    "\n",
    "xg_reg=xgb.XGBClassifier(objective ='binary:logistic', use_label_encoder=False, random_state=42, max_depth=5, \n",
    "                         min_child_weight=3)\n",
    "\n",
    "xg_reg.fit(X_train,y_train)\n",
    "y_predxg=xg_reg.predict(X_test)"
   ]
  },
  {
   "cell_type": "markdown",
   "id": "539c2c33",
   "metadata": {},
   "source": [
    "### Exercici 4\n",
    "\n",
    "Compara el seu rendiment utilitzant l’aproximació traint/test o cross-validation."
   ]
  },
  {
   "cell_type": "code",
   "execution_count": 47,
   "id": "8502f1f3",
   "metadata": {},
   "outputs": [
    {
     "name": "stdout",
     "output_type": "stream",
     "text": [
      "K-NN Model: [0.84927956 0.84747091 0.85132039]\n",
      "Naive Bayes: [0.8929282  0.89286791 0.89292174]\n",
      "[15:46:58] WARNING: ../src/learner.cc:1115: Starting in XGBoost 1.3.0, the default evaluation metric used with the objective 'binary:logistic' was changed from 'error' to 'logloss'. Explicitly set eval_metric if you'd like to restore the old behavior.\n",
      "[15:47:02] WARNING: ../src/learner.cc:1115: Starting in XGBoost 1.3.0, the default evaluation metric used with the objective 'binary:logistic' was changed from 'error' to 'logloss'. Explicitly set eval_metric if you'd like to restore the old behavior.\n",
      "[15:47:05] WARNING: ../src/learner.cc:1115: Starting in XGBoost 1.3.0, the default evaluation metric used with the objective 'binary:logistic' was changed from 'error' to 'logloss'. Explicitly set eval_metric if you'd like to restore the old behavior.\n",
      "XGBoost: [0.90534756 0.90426237 0.90696973]\n"
     ]
    }
   ],
   "source": [
    "#I will use cross-validation\n",
    "from sklearn.model_selection import cross_val_score\n",
    "\n",
    "print('K-NN Model:', cross_val_score(classifier, X, y, cv=3))\n",
    "print('Naive Bayes:', cross_val_score(modelGNB, X, y, cv=3))\n",
    "print('XGBoost:', cross_val_score(xg_reg, X, y, cv=3))"
   ]
  },
  {
   "cell_type": "markdown",
   "id": "71aed7a3",
   "metadata": {},
   "source": [
    "Before changing parameters in our models, we had this accuracy for each model: \n",
    "    \n",
    "- Accuracy of KNN: 0.8765692477653911\n",
    "\n",
    "- Accuracy of Naive Bayes: 0.7837702119112182\n",
    "\n",
    "- Accuracy of XGBoost: 0.9018780757256202\n",
    "    \n",
    "Now, with the changes, we can say that we have lost accuracy for K-NN Model, improved for Naive Bayes, and also improved for XGBoost."
   ]
  },
  {
   "cell_type": "markdown",
   "id": "4f80e616",
   "metadata": {},
   "source": [
    "### Exercici 5\n",
    "\n",
    "Realitza algun procés d’enginyeria de variables per millorar-ne la predicció."
   ]
  },
  {
   "cell_type": "code",
   "execution_count": 48,
   "id": "109d3567",
   "metadata": {},
   "outputs": [
    {
     "data": {
      "image/png": "[encoded data removed]",
      "text/plain": [
       "<Figure size 1080x216 with 1 Axes>"
      ]
     },
     "metadata": {
      "needs_background": "light"
     },
     "output_type": "display_data"
    }
   ],
   "source": [
    "plt.figure(figsize=(15,3))\n",
    "plt.title(\"ArrDelay distribution\",fontsize=15)\n",
    "plt.xlabel(\"ArrDelay\",fontsize=12)\n",
    "ax=sns.boxplot(airlines_copy['ArrDelay'])"
   ]
  },
  {
   "cell_type": "code",
   "execution_count": 49,
   "id": "4cbbef5f",
   "metadata": {},
   "outputs": [
    {
     "name": "stdout",
     "output_type": "stream",
     "text": [
      "9.0 55.0\n"
     ]
    }
   ],
   "source": [
    "#I will delete outliers\n",
    "Q1=airlines_copy['ArrDelay'].quantile(q=0.25)\n",
    "Q3=airlines_copy['ArrDelay'].quantile(q=0.75)\n",
    "print(Q1, Q3)"
   ]
  },
  {
   "cell_type": "code",
   "execution_count": 50,
   "id": "225ff1d3",
   "metadata": {},
   "outputs": [],
   "source": [
    "#If I set to 9 the min value I won't get any non delay observations to train the model and will be overfitted\n",
    "\n",
    "new_airlines=airlines_copy[(airlines_copy['ArrDelay'] >= 0) & (airlines_copy['ArrDelay'] <= 56)]"
   ]
  },
  {
   "cell_type": "code",
   "execution_count": 51,
   "id": "c83fe0df",
   "metadata": {},
   "outputs": [
    {
     "data": {
      "text/plain": [
       "1    32259\n",
       "0      737\n",
       "Name: Delayed, dtype: int64"
      ]
     },
     "execution_count": 51,
     "metadata": {},
     "output_type": "execute_result"
    }
   ],
   "source": [
    "new_airlines['Delayed'].value_counts()"
   ]
  },
  {
   "cell_type": "code",
   "execution_count": 52,
   "id": "0ffce2e9",
   "metadata": {},
   "outputs": [],
   "source": [
    "airlines2=new_airlines"
   ]
  },
  {
   "cell_type": "code",
   "execution_count": 53,
   "id": "bc215fe3",
   "metadata": {},
   "outputs": [],
   "source": [
    "new_airlines=new_airlines.drop(['ArrDelay'],axis=1)"
   ]
  },
  {
   "cell_type": "code",
   "execution_count": 54,
   "id": "9aa87ba4",
   "metadata": {},
   "outputs": [
    {
     "data": {
      "text/plain": [
       "(49760, 25)"
      ]
     },
     "execution_count": 54,
     "metadata": {},
     "output_type": "execute_result"
    }
   ],
   "source": [
    "#shape of airlines dataset with outliers\n",
    "\n",
    "airlines_copy.shape"
   ]
  },
  {
   "cell_type": "code",
   "execution_count": 55,
   "id": "3db3ee77",
   "metadata": {},
   "outputs": [
    {
     "data": {
      "text/plain": [
       "(32996, 24)"
      ]
     },
     "execution_count": 55,
     "metadata": {},
     "output_type": "execute_result"
    }
   ],
   "source": [
    "#shape of airlines dataset after removing outliers\n",
    "\n",
    "new_airlines.shape"
   ]
  },
  {
   "cell_type": "code",
   "execution_count": 56,
   "id": "e5c13166",
   "metadata": {},
   "outputs": [],
   "source": [
    "#Categorical features\n",
    "cat=['TailNum', 'UniqueCarrier', 'Dest', 'Origin']\n",
    "\n",
    "# Numerical features (all the rest)\n",
    "numeric=['Month', 'DayofMonth', 'DayOfWeek', 'DepTime', 'DepDelay','CRSArrTime', \n",
    "         'CRSElapsedTime', 'Distance', 'TaxiOut']\n",
    "\n",
    "X=new_airlines[numeric]\n",
    "y=new_airlines.Delayed"
   ]
  },
  {
   "cell_type": "code",
   "execution_count": 57,
   "id": "d9865447",
   "metadata": {},
   "outputs": [],
   "source": [
    "#Apply SMOTE for balancing variables\n",
    "\n",
    "from imblearn.over_sampling import SMOTE\n",
    "\n",
    "smote = SMOTE(random_state=1, sampling_strategy = 'minority')"
   ]
  },
  {
   "cell_type": "code",
   "execution_count": 58,
   "id": "4de93b92",
   "metadata": {},
   "outputs": [
    {
     "name": "stdout",
     "output_type": "stream",
     "text": [
      "(32996, 9)\n",
      "(32996,)\n"
     ]
    }
   ],
   "source": [
    "print(X.shape)\n",
    "print(y.shape)"
   ]
  },
  {
   "cell_type": "code",
   "execution_count": 59,
   "id": "7ff86c0d",
   "metadata": {},
   "outputs": [
    {
     "name": "stdout",
     "output_type": "stream",
     "text": [
      "Training Features Shape: (26396, 9)\n",
      "Testing Features Shape: (6600, 9)\n"
     ]
    }
   ],
   "source": [
    "#Train-Set test\n",
    "\n",
    "X_train, X_test, y_train, y_test=train_test_split(X, y, test_size=0.20, random_state=42)\n",
    "print('Training Features Shape:', X_train.shape)\n",
    "print('Testing Features Shape:', X_test.shape)"
   ]
  },
  {
   "cell_type": "markdown",
   "id": "3462f9ec",
   "metadata": {},
   "source": [
    "**K-NN Model**"
   ]
  },
  {
   "cell_type": "code",
   "execution_count": 60,
   "id": "7700ff91",
   "metadata": {},
   "outputs": [
    {
     "data": {
      "text/plain": [
       "KNeighborsClassifier()"
      ]
     },
     "execution_count": 60,
     "metadata": {},
     "output_type": "execute_result"
    }
   ],
   "source": [
    "#training the model and predictions\n",
    "\n",
    "classifier = KNeighborsClassifier(n_neighbors=5)\n",
    "classifier.fit(X_train, y_train)"
   ]
  },
  {
   "cell_type": "code",
   "execution_count": 61,
   "id": "6e9b70b7",
   "metadata": {},
   "outputs": [],
   "source": [
    "#predictions\n",
    "\n",
    "y_predKNN = classifier.predict(X_test)"
   ]
  },
  {
   "cell_type": "markdown",
   "id": "57c7884c",
   "metadata": {},
   "source": [
    "**Naive Bayes**"
   ]
  },
  {
   "cell_type": "code",
   "execution_count": 62,
   "id": "148874d8",
   "metadata": {},
   "outputs": [],
   "source": [
    "#Create a Gaussian Classifier\n",
    "modelGNB=GaussianNB()\n",
    "\n",
    "# Train the model using the training sets\n",
    "modelGNB.fit(X_train, y_train)\n",
    "\n",
    "#Predict Output\n",
    "y_predGNB=modelGNB.predict(X_test)"
   ]
  },
  {
   "cell_type": "markdown",
   "id": "de9c002e",
   "metadata": {},
   "source": [
    "**XG Boost**"
   ]
  },
  {
   "cell_type": "code",
   "execution_count": 63,
   "id": "0b6dd076",
   "metadata": {},
   "outputs": [],
   "source": [
    "#convert the dataset into an optimized data structure called Dmatrix\n",
    "\n",
    "data_dmatrix = xgb.DMatrix(data=X,label=y)"
   ]
  },
  {
   "cell_type": "code",
   "execution_count": 64,
   "id": "386f8797",
   "metadata": {},
   "outputs": [],
   "source": [
    "#instantiate an XGBoost regressor object\n",
    "\n",
    "xg_reg = xgb.XGBClassifier(objective ='binary:logistic',random_state=42)"
   ]
  },
  {
   "cell_type": "code",
   "execution_count": 65,
   "id": "f280a867",
   "metadata": {},
   "outputs": [
    {
     "name": "stdout",
     "output_type": "stream",
     "text": [
      "[15:47:13] WARNING: ../src/learner.cc:1115: Starting in XGBoost 1.3.0, the default evaluation metric used with the objective 'binary:logistic' was changed from 'error' to 'logloss'. Explicitly set eval_metric if you'd like to restore the old behavior.\n"
     ]
    }
   ],
   "source": [
    "#fitting model\n",
    "\n",
    "xg_reg.fit(X_train,y_train)\n",
    "\n",
    "y_predxg=xg_reg.predict(X_test)"
   ]
  },
  {
   "cell_type": "markdown",
   "id": "7e1f2edb",
   "metadata": {},
   "source": [
    "Initial accuracy values:\n",
    "\n",
    "- Accuracy of KNN: 0.8808472194338486\n",
    "- Accuracy of Naive Bayes: 0.7850833166030917\n",
    "- Accuracy of XGBoost: 0.9072475406544871"
   ]
  },
  {
   "cell_type": "code",
   "execution_count": 66,
   "id": "bc718d79",
   "metadata": {},
   "outputs": [
    {
     "name": "stdout",
     "output_type": "stream",
     "text": [
      "Accuracy of KNN: 0.9768181818181818\n",
      "Accuracy of Naive Bayes: 0.9766666666666667\n",
      "Accuracy of XGBoost: 0.9757575757575757\n"
     ]
    }
   ],
   "source": [
    "#accuracy\n",
    "print(\"Accuracy of KNN:\",metrics.accuracy_score(y_test, y_predKNN))\n",
    "print(\"Accuracy of Naive Bayes:\",metrics.accuracy_score(y_test, y_predGNB))\n",
    "print(\"Accuracy of XGBoost:\",metrics.accuracy_score(y_test, y_predxg))"
   ]
  },
  {
   "cell_type": "markdown",
   "id": "05faff7e",
   "metadata": {},
   "source": [
    "Without outliers our model has improved significantly in all the models."
   ]
  },
  {
   "cell_type": "markdown",
   "id": "116f6866",
   "metadata": {},
   "source": [
    "### Exercici 6\n",
    "\n",
    "No utilitzis la variable DepDelay a l’hora de fer prediccions"
   ]
  },
  {
   "cell_type": "code",
   "execution_count": 67,
   "id": "c162d3d7",
   "metadata": {},
   "outputs": [],
   "source": [
    "airlines2.drop('DepDelay',axis=1, inplace=True)"
   ]
  },
  {
   "cell_type": "code",
   "execution_count": 68,
   "id": "86572fe7",
   "metadata": {},
   "outputs": [],
   "source": [
    "# Numerical features\n",
    "numeric=['Month', 'DayofMonth', 'DayOfWeek', 'DepTime','CRSArrTime', \n",
    "         'CRSElapsedTime', 'Distance', 'TaxiOut']\n",
    "\n",
    "X=airlines2[numeric]\n",
    "y=airlines2.Delayed"
   ]
  },
  {
   "cell_type": "code",
   "execution_count": 69,
   "id": "3356dfe2",
   "metadata": {},
   "outputs": [
    {
     "data": {
      "image/png": "[encoded data removed]",
      "text/plain": [
       "<Figure size 1080x576 with 2 Axes>"
      ]
     },
     "metadata": {
      "needs_background": "light"
     },
     "output_type": "display_data"
    }
   ],
   "source": [
    "correl=airlines2.corr().round(3)\n",
    "mascara=np.triu(correl)\n",
    "f, ax=plt.subplots(figsize=(15, 8))\n",
    "sns.heatmap(correl, mask=mascara, annot=True, linewidths=.5,  vmin=-1, vmax=1,  cmap='BrBG_r')\n",
    "ax.set_title('Correlation heatmap')\n",
    "plt.show()"
   ]
  },
  {
   "cell_type": "code",
   "execution_count": 70,
   "id": "1702df09",
   "metadata": {},
   "outputs": [],
   "source": [
    "numeric=['Month', 'DayofMonth', 'DayOfWeek','DepDelay','CRSArrTime', \n",
    "         'CRSElapsedTime', 'Distance', 'TaxiOut']\n",
    "\n",
    "X=airlines[numeric]\n",
    "y=airlines.Delayed"
   ]
  },
  {
   "cell_type": "code",
   "execution_count": 71,
   "id": "eafcd49c",
   "metadata": {},
   "outputs": [],
   "source": [
    "#Apply SMOTE for balancing variables\n",
    "\n",
    "smote = SMOTE(random_state=1, sampling_strategy = 'minority')"
   ]
  },
  {
   "cell_type": "code",
   "execution_count": 72,
   "id": "adbc8a9c",
   "metadata": {},
   "outputs": [
    {
     "name": "stdout",
     "output_type": "stream",
     "text": [
      "(49760, 8)\n",
      "(49760,)\n"
     ]
    }
   ],
   "source": [
    "print(X.shape)\n",
    "print(y.shape)"
   ]
  },
  {
   "cell_type": "code",
   "execution_count": 73,
   "id": "1dbdd591",
   "metadata": {},
   "outputs": [
    {
     "name": "stdout",
     "output_type": "stream",
     "text": [
      "Training Features Shape: (39808, 8)\n",
      "Testing Features Shape: (9952, 8)\n"
     ]
    }
   ],
   "source": [
    "X_train, X_test, y_train, y_test=train_test_split(X, y, test_size=0.20, random_state=42)\n",
    "print('Training Features Shape:', X_train.shape)\n",
    "print('Testing Features Shape:', X_test.shape)"
   ]
  },
  {
   "cell_type": "markdown",
   "id": "fc8de119",
   "metadata": {},
   "source": [
    "**K-NN Model**"
   ]
  },
  {
   "cell_type": "code",
   "execution_count": 74,
   "id": "9c6435f0",
   "metadata": {},
   "outputs": [
    {
     "data": {
      "text/plain": [
       "KNeighborsClassifier()"
      ]
     },
     "execution_count": 74,
     "metadata": {},
     "output_type": "execute_result"
    }
   ],
   "source": [
    "#training the model and predictions\n",
    "\n",
    "classifier = KNeighborsClassifier(n_neighbors=5)\n",
    "classifier.fit(X_train, y_train)"
   ]
  },
  {
   "cell_type": "code",
   "execution_count": 75,
   "id": "2a190b71",
   "metadata": {},
   "outputs": [],
   "source": [
    "#predictions\n",
    "\n",
    "y_predKNN = classifier.predict(X_test)"
   ]
  },
  {
   "cell_type": "markdown",
   "id": "ca227204",
   "metadata": {},
   "source": [
    "**Naive Bayes**"
   ]
  },
  {
   "cell_type": "code",
   "execution_count": 76,
   "id": "d3a9b055",
   "metadata": {},
   "outputs": [],
   "source": [
    "#Create a Gaussian Classifier\n",
    "modelGNB=GaussianNB()\n",
    "\n",
    "# Train the model using the training sets\n",
    "modelGNB.fit(X_train, y_train)\n",
    "\n",
    "#Predict Output\n",
    "y_predGNB=modelGNB.predict(X_test)"
   ]
  },
  {
   "cell_type": "markdown",
   "id": "f768c455",
   "metadata": {},
   "source": [
    "**XG Boost**"
   ]
  },
  {
   "cell_type": "code",
   "execution_count": 77,
   "id": "914eeb48",
   "metadata": {},
   "outputs": [],
   "source": [
    "#convert the dataset into an optimized data structure called Dmatrix\n",
    "\n",
    "data_dmatrix = xgb.DMatrix(data=X,label=y)"
   ]
  },
  {
   "cell_type": "code",
   "execution_count": 78,
   "id": "3a864692",
   "metadata": {},
   "outputs": [],
   "source": [
    "#instantiate an XGBoost regressor object\n",
    "\n",
    "xg_reg = xgb.XGBClassifier(objective ='binary:logistic',random_state=42)"
   ]
  },
  {
   "cell_type": "code",
   "execution_count": 79,
   "id": "b32233e1",
   "metadata": {},
   "outputs": [
    {
     "name": "stdout",
     "output_type": "stream",
     "text": [
      "[15:47:33] WARNING: ../src/learner.cc:1115: Starting in XGBoost 1.3.0, the default evaluation metric used with the objective 'binary:logistic' was changed from 'error' to 'logloss'. Explicitly set eval_metric if you'd like to restore the old behavior.\n"
     ]
    }
   ],
   "source": [
    "#fitting model\n",
    "\n",
    "xg_reg.fit(X_train,y_train)\n",
    "\n",
    "y_predxg=xg_reg.predict(X_test)"
   ]
  },
  {
   "cell_type": "code",
   "execution_count": 80,
   "id": "14650f5d",
   "metadata": {},
   "outputs": [
    {
     "name": "stdout",
     "output_type": "stream",
     "text": [
      "Accuracy of KNN: 0.8836414790996785\n",
      "Accuracy of Naive Bayes: 0.7902934083601286\n",
      "Accuracy of XGBoost: 0.903637459807074\n"
     ]
    }
   ],
   "source": [
    "#accuracy\n",
    "print(\"Accuracy of KNN:\",metrics.accuracy_score(y_test, y_predKNN))\n",
    "print(\"Accuracy of Naive Bayes:\",metrics.accuracy_score(y_test, y_predGNB))\n",
    "print(\"Accuracy of XGBoost:\",metrics.accuracy_score(y_test, y_predxg))"
   ]
  },
  {
   "cell_type": "markdown",
   "id": "9c1d5871",
   "metadata": {},
   "source": [
    "Even though we don't have DepDelay variable we've got a pretty decent accuracy values being XGBoost the most accurate model."
   ]
  }
 ],
 "metadata": {
  "kernelspec": {
   "display_name": "Python 3 (ipykernel)",
   "language": "python",
   "name": "python3"
  },
  "language_info": {
   "codemirror_mode": {
    "name": "ipython",
    "version": 3
   },
   "file_extension": ".py",
   "mimetype": "text/x-python",
   "name": "python",
   "nbconvert_exporter": "python",
   "pygments_lexer": "ipython3",
   "version": "3.8.8"
  }
 },
 "nbformat": 4,
 "nbformat_minor": 5
}
